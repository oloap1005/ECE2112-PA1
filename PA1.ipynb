{
 "cells": [
  {
   "cell_type": "markdown",
   "id": "39a1de54-8713-4fb0-9d86-82fe095f6c54",
   "metadata": {},
   "source": [
    "# NUMBER 1 ALPHABET SOUP PROBLEM"
   ]
  },
  {
   "cell_type": "code",
   "execution_count": 4,
   "id": "ccf5b4d5-07b6-4fd8-bc58-76a00d3c879c",
   "metadata": {},
   "outputs": [
    {
     "name": "stdin",
     "output_type": "stream",
     "text": [
      "Enter a string:  PAOLO\n"
     ]
    },
    {
     "name": "stdout",
     "output_type": "stream",
     "text": [
      "ALOOP\n"
     ]
    }
   ],
   "source": [
    "# Function to sort the characters in a string alphabetically\n",
    "def alphabet_soup(s):\n",
    "# Sort the string 's' and join the sorted characters into a new string\n",
    "    return ''.join(sorted(s))\n",
    " #Prompt the user for input\n",
    "user_input = input(\"Enter a string: \")\n",
    "# Call the function 'alphabet_soup' with the user's input and print the result\n",
    "print(alphabet_soup(user_input))"
   ]
  },
  {
   "cell_type": "markdown",
   "id": "5268621b-15d6-4ad0-aa2e-00af3fce46d0",
   "metadata": {},
   "source": [
    "# NUMBER 2 : EMOTICON PROBLE"
   ]
  },
  {
   "cell_type": "code",
   "execution_count": 8,
   "id": "cbbd6c60-2ba2-4c67-85e0-3875ae09815d",
   "metadata": {},
   "outputs": [
    {
     "name": "stdin",
     "output_type": "stream",
     "text": [
      "Write a sentence:  i am sad\n"
     ]
    },
    {
     "name": "stdout",
     "output_type": "stream",
     "text": [
      "i am :<\n"
     ]
    }
   ],
   "source": [
    "def main ():\n",
    "    #prompt the user to input a sentence\n",
    "    sentence = input (\"Write a sentence: \")\n",
    "    #converting the said sentence\n",
    "    sentence = convert(sentence)\n",
    "    #printing the converted sentence\n",
    "    print(sentence)\n",
    "#function to convert certain words to emoticons\n",
    "def convert(sentence):\n",
    "    sentence = sentence.replace(\"smile\",\":>\")\n",
    "    sentence = sentence.replace(\"grin\",\":D\")\n",
    "    sentence = sentence.replace(\"sad\",\":<\")\n",
    "    sentence = sentence.replace(\"mad\",\">:(\")\n",
    "    return sentence\n",
    "\n",
    "main()"
   ]
  },
  {
   "cell_type": "markdown",
   "id": "ba39de00-6a2b-4860-8320-768bc491c788",
   "metadata": {},
   "source": [
    "# NUMBER 3: UNPACKING LIST PROBLEM"
   ]
  },
  {
   "cell_type": "code",
   "execution_count": 12,
   "id": "b5982fec-ea7c-497f-a12d-d325c603113e",
   "metadata": {},
   "outputs": [
    {
     "name": "stdout",
     "output_type": "stream",
     "text": [
      "FIRST:  1\n",
      "MIDDLE:  [2, 3, 4, 5]\n",
      "LAST:  6\n"
     ]
    }
   ],
   "source": [
    "list = [1, 2, 3, 4, 5, 6]\n",
    "\n",
    "# Unpacking the list\n",
    "first = list[0]\n",
    "last = list[-1]\n",
    "middle = list[1:-1]\n",
    "\n",
    "# Printing the variables\n",
    "print(\"FIRST: \", first)\n",
    "print(\"MIDDLE: \", middle)\n",
    "print(\"LAST: \", last)\n"
   ]
  },
  {
   "cell_type": "code",
   "execution_count": null,
   "id": "867fc1a5-5887-4918-a904-d62ba678f33c",
   "metadata": {},
   "outputs": [],
   "source": []
  }
 ],
 "metadata": {
  "kernelspec": {
   "display_name": "Python 3 (ipykernel)",
   "language": "python",
   "name": "python3"
  },
  "language_info": {
   "codemirror_mode": {
    "name": "ipython",
    "version": 3
   },
   "file_extension": ".py",
   "mimetype": "text/x-python",
   "name": "python",
   "nbconvert_exporter": "python",
   "pygments_lexer": "ipython3",
   "version": "3.12.4"
  }
 },
 "nbformat": 4,
 "nbformat_minor": 5
}
